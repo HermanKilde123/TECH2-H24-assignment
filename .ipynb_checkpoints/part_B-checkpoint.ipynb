{
 "cells": [
  {
   "cell_type": "markdown",
   "metadata": {},
   "source": [
    "# TECH 2 mandatory assignment - Part B"
   ]
  },
  {
   "cell_type": "code",
   "execution_count": 1,
   "metadata": {},
   "outputs": [],
   "source": [
    "import csv\n",
    "import numpy as np\n",
    "from math import sqrt"
   ]
  },
  {
   "cell_type": "code",
   "execution_count": 3,
   "metadata": {},
   "outputs": [],
   "source": [
    "seq_100 = []\n",
    "seq_1000 = []\n",
    "seq_10000 = []\n",
    "\n",
    "with open(\"data.csv\", \"r\") as file:\n",
    "    csv_reader = csv.reader(file)\n",
    "    for row in csv_reader:\n",
    "        if row[0] != '':\n",
    "            seq_100.append(float(row[0]))\n",
    "        if row[1] != '':\n",
    "            seq_1000.append(float(row[1]))\n",
    "        if row[2] != '':\n",
    "            seq_10000.append(float(row[2]))"
   ]
  },
  {
   "cell_type": "code",
   "execution_count": 5,
   "metadata": {},
   "outputs": [],
   "source": [
    "def std_loops(seq_100):\n",
    "    N = len(seq_100)\n",
    "    \n",
    "    total_sum = 0\n",
    "    for num in seq_100:\n",
    "        total_sum += num\n",
    "    mean = total_sum / N\n",
    "    \n",
    "    sum_of_squares = 0\n",
    "    for num in seq_100:\n",
    "        sum_of_squares += num ** 2\n",
    "    mean_of_squares = sum_of_squares / N\n",
    "    \n",
    "    variance = mean_of_squares - mean ** 2\n",
    "    \n",
    "    standard_deviation = sqrt(variance)\n",
    "    \n",
    "    return standard_deviation"
   ]
  },
  {
   "cell_type": "code",
   "execution_count": 7,
   "metadata": {},
   "outputs": [],
   "source": [
    "def std_builtin(seq_100):\n",
    "\n",
    "    N = len(seq_100)\n",
    "    \n",
    "    mean = sum(seq_100) / N\n",
    "    \n",
    "    mean_of_squares = sum([num ** 2 for num in seq_100]) / N\n",
    "    \n",
    "    variance = mean_of_squares - mean ** 2\n",
    "    \n",
    "    standard_deviation = sqrt(variance)\n",
    "    \n",
    "    return standard_deviation"
   ]
  },
  {
   "cell_type": "code",
   "execution_count": 9,
   "metadata": {},
   "outputs": [],
   "source": [
    "def std_numpy(seq_100):\n",
    "    return np.std(seq_100)"
   ]
  },
  {
   "cell_type": "code",
   "execution_count": 11,
   "metadata": {},
   "outputs": [
    {
     "name": "stdout",
     "output_type": "stream",
     "text": [
      "Standard Deviation using loops: 0.2823721097353601\n",
      "Standard Deviation using builtin: 0.2823721097353601\n",
      "Standard Deviation using numpy: 0.28237210973536014\n"
     ]
    }
   ],
   "source": [
    "result_loops = std_loops(seq_100)\n",
    "result_builtin = std_builtin(seq_100)\n",
    "result_numpy = std_numpy(seq_100)\n",
    "\n",
    "print(f\"Standard Deviation using loops: {result_loops}\")\n",
    "print(f\"Standard Deviation using builtin: {result_builtin}\")\n",
    "print(f\"Standard Deviation using numpy: {result_numpy}\")"
   ]
  },
  {
   "cell_type": "code",
   "execution_count": 13,
   "metadata": {},
   "outputs": [
    {
     "name": "stdout",
     "output_type": "stream",
     "text": [
      "Standard Deviation using loops: 0.28467443283850546\n",
      "Standard Deviation using builtin: 0.28467443283850546\n",
      "Standard Deviation using numpy: 0.28467443283850596\n"
     ]
    }
   ],
   "source": [
    "result_loops = std_loops(seq_1000)\n",
    "result_builtin = std_builtin(seq_1000)\n",
    "result_numpy = std_numpy(seq_1000)\n",
    "\n",
    "print(f\"Standard Deviation using loops: {result_loops}\")\n",
    "print(f\"Standard Deviation using builtin: {result_builtin}\")\n",
    "print(f\"Standard Deviation using numpy: {result_numpy}\")"
   ]
  },
  {
   "cell_type": "code",
   "execution_count": 15,
   "metadata": {},
   "outputs": [
    {
     "name": "stdout",
     "output_type": "stream",
     "text": [
      "Standard Deviation using loops: 0.2854045269476155\n",
      "Standard Deviation using builtin: 0.2854045269476155\n",
      "Standard Deviation using numpy: 0.2854045269476156\n"
     ]
    }
   ],
   "source": [
    "result_loops = std_loops(seq_10000)\n",
    "result_builtin = std_builtin(seq_10000)\n",
    "result_numpy = std_numpy(seq_10000)\n",
    "\n",
    "print(f\"Standard Deviation using loops: {result_loops}\")\n",
    "print(f\"Standard Deviation using builtin: {result_builtin}\")\n",
    "print(f\"Standard Deviation using numpy: {result_numpy}\")"
   ]
  },
  {
   "cell_type": "code",
   "execution_count": 17,
   "metadata": {},
   "outputs": [
    {
     "name": "stdout",
     "output_type": "stream",
     "text": [
      "5.42 μs ± 94.5 ns per loop (mean ± std. dev. of 7 runs, 100,000 loops each)\n",
      "4.25 μs ± 49.9 ns per loop (mean ± std. dev. of 7 runs, 100,000 loops each)\n",
      "8.36 μs ± 41.5 ns per loop (mean ± std. dev. of 7 runs, 100,000 loops each)\n",
      "54.6 μs ± 791 ns per loop (mean ± std. dev. of 7 runs, 10,000 loops each)\n",
      "40.6 μs ± 54.5 ns per loop (mean ± std. dev. of 7 runs, 10,000 loops each)\n",
      "25.5 μs ± 76.6 ns per loop (mean ± std. dev. of 7 runs, 10,000 loops each)\n",
      "543 μs ± 1.1 μs per loop (mean ± std. dev. of 7 runs, 1,000 loops each)\n",
      "407 μs ± 353 ns per loop (mean ± std. dev. of 7 runs, 1,000 loops each)\n",
      "187 μs ± 793 ns per loop (mean ± std. dev. of 7 runs, 10,000 loops each)\n"
     ]
    }
   ],
   "source": [
    "%timeit std_loops(seq_100)\n",
    "%timeit std_builtin(seq_100)\n",
    "%timeit np.std(seq_100)\n",
    "\n",
    "%timeit std_loops(seq_1000)\n",
    "%timeit std_builtin(seq_1000)\n",
    "%timeit np.std(seq_1000)\n",
    "\n",
    "%timeit std_loops(seq_10000)\n",
    "%timeit std_builtin(seq_10000)\n",
    "%timeit np.std(seq_10000)\n"
   ]
  },
  {
   "cell_type": "markdown",
   "metadata": {},
   "source": [
    "For small datasets, using built-in Python functions is generally the most efficient, but as you increases the size of the datasets, NumPy becomes the clear winner in terms of speed."
   ]
  },
  {
   "cell_type": "code",
   "execution_count": null,
   "metadata": {},
   "outputs": [],
   "source": []
  }
 ],
 "metadata": {
  "kernelspec": {
   "display_name": "Python 3 (ipykernel)",
   "language": "python",
   "name": "python3"
  },
  "language_info": {
   "codemirror_mode": {
    "name": "ipython",
    "version": 3
   },
   "file_extension": ".py",
   "mimetype": "text/x-python",
   "name": "python",
   "nbconvert_exporter": "python",
   "pygments_lexer": "ipython3",
   "version": "3.10.13"
  }
 },
 "nbformat": 4,
 "nbformat_minor": 4
}
